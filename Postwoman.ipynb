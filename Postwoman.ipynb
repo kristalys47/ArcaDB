{
 "cells": [
  {
   "cell_type": "code",
   "execution_count": 2,
   "id": "64ce331e",
   "metadata": {},
   "outputs": [
    {
     "name": "stdout",
     "output_type": "stream",
     "text": [
      "0:04:43.079446\n",
      "0:04:33.363395\n",
      "0:04:34.551191\n"
     ]
    }
   ],
   "source": [
    "import requests\n",
    "  \n",
    "# api-endpoint\n",
    "URL = \"http://136.145.77.80:7271/database/query\"\n",
    "json = {\n",
    "    \"mode\": 3,\n",
    "    \"buckets\": 25,\n",
    "    \"query\": \"select * from lineitem, part where lineitem.\\\"01\\\" = part.\\\"00\\\"\",\n",
    "    \"query1\": \"select * from lineitem, order where customer.\\\"00\\\" = part.\\\"00\\\"\"\n",
    "}\n",
    "\n",
    "# sending get request and saving the response as response object\n",
    "for n in range(3):\n",
    "    r = requests.get(url = URL, json = json)\n",
    "    print(r.elapsed)\n",
    "\n"
   ]
  },
  {
   "cell_type": "code",
   "execution_count": null,
   "id": "27748374",
   "metadata": {},
   "outputs": [],
   "source": []
  },
  {
   "cell_type": "code",
   "execution_count": null,
   "id": "5120eb4f",
   "metadata": {},
   "outputs": [],
   "source": []
  }
 ],
 "metadata": {
  "kernelspec": {
   "display_name": "Python 3",
   "language": "python",
   "name": "python3"
  },
  "language_info": {
   "codemirror_mode": {
    "name": "ipython",
    "version": 3
   },
   "file_extension": ".py",
   "mimetype": "text/x-python",
   "name": "python",
   "nbconvert_exporter": "python",
   "pygments_lexer": "ipython3",
   "version": "3.8.8"
  }
 },
 "nbformat": 4,
 "nbformat_minor": 5
}
