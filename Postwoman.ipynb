{
 "cells": [
  {
   "cell_type": "code",
   "execution_count": null,
   "id": "bc2fdc35",
   "metadata": {},
   "outputs": [],
   "source": [
    "import requests\n",
    "  \n",
    "# api-endpoint\n",
    "URL = \"http://136.145.77.80:7271/database/query\"\n",
    "json = {\n",
    "    \"mode\": 3,\n",
    "    \"buckets\": 20,\n",
    "    \"query1\": \"select * from lineitem, part where lineitem.\\\"01\\\" = part.\\\"00\\\"\",\n",
    "    \"query\": \"select * from lineitem, orders where lineitem.\\\"00\\\" = orders.\\\"00\\\"\"\n",
    "}\n",
    "\n",
    "# sending get request and saving the response as response object\n",
    "for n in range(3):\n",
    "    r = requests.get(url = URL, json = json)\n",
    "    print(r.elapsed)\n",
    "\n"
   ]
  },
  {
   "cell_type": "code",
   "execution_count": null,
   "id": "d842f875",
   "metadata": {},
   "outputs": [],
   "source": [
    "r "
   ]
  },
  {
   "cell_type": "code",
   "execution_count": null,
   "id": "fafbf9b0",
   "metadata": {},
   "outputs": [],
   "source": []
  }
 ],
 "metadata": {
  "kernelspec": {
   "display_name": "Python 3",
   "language": "python",
   "name": "python3"
  }
 },
 "nbformat": 4,
 "nbformat_minor": 5
}
