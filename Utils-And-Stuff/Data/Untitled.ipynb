{
 "cells": [
  {
   "cell_type": "code",
   "execution_count": 6,
   "id": "87ebfe1c",
   "metadata": {},
   "outputs": [
    {
     "name": "stdout",
     "output_type": "stream",
     "text": [
      "Collecting package metadata (current_repodata.json): ...working... done\n",
      "Solving environment: ...working... done\n",
      "\n",
      "## Package Plan ##\n",
      "\n",
      "  environment location: C:\\Users\\Abigail\\anaconda3\n",
      "\n",
      "  added / updated specs:\n",
      "    - conda\n",
      "\n",
      "\n",
      "The following packages will be downloaded:\n",
      "\n",
      "    package                    |            build\n",
      "    ---------------------------|-----------------\n",
      "    conda-4.13.0               |   py38haa95532_0         926 KB\n",
      "    conda-content-trust-0.1.3  |   py38haa95532_0          86 KB\n",
      "    conda-package-handling-1.8.1|   py38h8cc25b3_0         729 KB\n",
      "    conda-repo-cli-1.0.5       |   py38haa95532_0         124 KB\n",
      "    pathlib-1.0.1              |     pyhd3eb1b0_1          17 KB\n",
      "    text-unidecode-1.3         |     pyhd3eb1b0_0          65 KB\n",
      "    xmltodict-0.12.0           |     pyhd3eb1b0_0          13 KB\n",
      "    ------------------------------------------------------------\n",
      "                                           Total:         1.9 MB\n",
      "\n",
      "The following NEW packages will be INSTALLED:\n",
      "\n",
      "  pathlib            pkgs/main/noarch::pathlib-1.0.1-pyhd3eb1b0_1\n",
      "\n",
      "The following packages will be REMOVED:\n",
      "\n",
      "  python_abi-3.8-2_cp38\n",
      "\n",
      "The following packages will be UPDATED:\n",
      "\n",
      "  conda-content-tru~ pkgs/main/noarch::conda-content-trust~ --> pkgs/main/win-64::conda-content-trust-0.1.3-py38haa95532_0\n",
      "  conda-package-han~                   1.7.3-py38h8cc25b3_1 --> 1.8.1-py38h8cc25b3_0\n",
      "  conda-repo-cli     pkgs/main/noarch::conda-repo-cli-1.0.~ --> pkgs/main/win-64::conda-repo-cli-1.0.5-py38haa95532_0\n",
      "\n",
      "The following packages will be SUPERSEDED by a higher-priority channel:\n",
      "\n",
      "  conda              conda-forge::conda-4.13.0-py38haa244f~ --> pkgs/main::conda-4.13.0-py38haa95532_0\n",
      "  text-unidecode       conda-forge::text-unidecode-1.3-py_0 --> pkgs/main::text-unidecode-1.3-pyhd3eb1b0_0\n",
      "\n",
      "The following packages will be DOWNGRADED:\n",
      "\n",
      "  xmltodict                                     0.12.0-py_0 --> 0.12.0-pyhd3eb1b0_0\n",
      "\n",
      "\n",
      "\n",
      "Downloading and Extracting Packages\n",
      "\n",
      "text-unidecode-1.3   | 65 KB     |            |   0% \n",
      "text-unidecode-1.3   | 65 KB     | ##4        |  25% \n",
      "text-unidecode-1.3   | 65 KB     | ########## | 100% \n",
      "text-unidecode-1.3   | 65 KB     | ########## | 100% \n",
      "\n",
      "pathlib-1.0.1        | 17 KB     |            |   0% \n",
      "pathlib-1.0.1        | 17 KB     | #########2 |  93% \n",
      "pathlib-1.0.1        | 17 KB     | ########## | 100% \n",
      "\n",
      "conda-4.13.0         | 926 KB    |            |   0% \n",
      "conda-4.13.0         | 926 KB    | 1          |   2% \n",
      "conda-4.13.0         | 926 KB    | ##5        |  26% \n",
      "conda-4.13.0         | 926 KB    | ######2    |  62% \n",
      "conda-4.13.0         | 926 KB    | #########8 |  99% \n",
      "conda-4.13.0         | 926 KB    | ########## | 100% \n",
      "\n",
      "Note: you may need to restart the kernel to use updated packages.\n",
      "\n",
      "conda-package-handli | 729 KB    |            |   0% \n",
      "conda-package-handli | 729 KB    | 2          |   2% \n",
      "conda-package-handli | 729 KB    | ####8      |  48% \n",
      "conda-package-handli | 729 KB    | #######6   |  77% \n",
      "conda-package-handli | 729 KB    | ########## | 100% \n",
      "\n",
      "conda-repo-cli-1.0.5 | 124 KB    |            |   0% \n",
      "conda-repo-cli-1.0.5 | 124 KB    | #2         |  13% \n",
      "conda-repo-cli-1.0.5 | 124 KB    | ########## | 100% \n",
      "conda-repo-cli-1.0.5 | 124 KB    | ########## | 100% \n",
      "\n",
      "xmltodict-0.12.0     | 13 KB     |            |   0% \n",
      "xmltodict-0.12.0     | 13 KB     | ########## | 100% \n",
      "xmltodict-0.12.0     | 13 KB     | ########## | 100% \n",
      "\n",
      "conda-content-trust- | 86 KB     |            |   0% \n",
      "conda-content-trust- | 86 KB     | #8         |  19% \n",
      "conda-content-trust- | 86 KB     | ########## | 100% \n",
      "conda-content-trust- | 86 KB     | ########## | 100% \n",
      "Preparing transaction: ...working... done\n",
      "Verifying transaction: ...working... done\n",
      "Executing transaction: ...working... done\n"
     ]
    }
   ],
   "source": [
    "conda update -n base -c defaults conda"
   ]
  },
  {
   "cell_type": "code",
   "execution_count": 35,
   "id": "46a3c6d6",
   "metadata": {},
   "outputs": [],
   "source": [
    "from faker import Faker"
   ]
  },
  {
   "cell_type": "code",
   "execution_count": 41,
   "id": "f5462e30",
   "metadata": {
    "scrolled": true
   },
   "outputs": [],
   "source": [
    "fake = Faker()\n",
    "\n",
    "files_num = 8;\n",
    "tuples_per_file = 900000\n",
    "for j in range(files_num):\n",
    "    file = open(\"D:\\Downloads\\data_person\" + str(j) + \".csv\", \"a\")\n",
    "    for i in range(tuples_per_file):\n",
    "        string = str(tuples_per_file*j + i) + \",\"+ fake.name()+ \",\"+ fake.email()+ \",\"+ fake.phone_number()+ \",\"+ fake.country()+ \"\\n\"\n",
    "        file.write(string)\n",
    "\n",
    "    file.close()"
   ]
  },
  {
   "cell_type": "code",
   "execution_count": 63,
   "id": "8d587e79",
   "metadata": {
    "scrolled": true
   },
   "outputs": [],
   "source": [
    "fake = Faker()\n",
    "\n",
    "files_num = 7\n",
    "tuples_per_file = 2300000\n",
    "for j in range(files_num):\n",
    "    file = open(\"D:\\Downloads\\data_product\" + str(j) + \".csv\", \"a\")\n",
    "    for i in range(tuples_per_file):\n",
    "        string = str(tuples_per_file*j + i) + \",\"+ fake.text(15)+ \",\"+ str(fake.pydecimal(left_digits=8, right_digits=2, positive=True, min_value=1, max_value=1000)) + \"\\n\"\n",
    "        file.write(string)\n",
    "    file.close()"
   ]
  },
  {
   "cell_type": "code",
   "execution_count": 61,
   "id": "051d3782",
   "metadata": {},
   "outputs": [],
   "source": [
    "file.close()\n"
   ]
  },
  {
   "cell_type": "code",
   "execution_count": null,
   "id": "5262f3fa",
   "metadata": {},
   "outputs": [],
   "source": []
  }
 ],
 "metadata": {
  "kernelspec": {
   "display_name": "Python 3",
   "language": "python",
   "name": "python3"
  },
  "language_info": {
   "codemirror_mode": {
    "name": "ipython",
    "version": 3
   },
   "file_extension": ".py",
   "mimetype": "text/x-python",
   "name": "python",
   "nbconvert_exporter": "python",
   "pygments_lexer": "ipython3",
   "version": "3.8.8"
  }
 },
 "nbformat": 4,
 "nbformat_minor": 5
}
