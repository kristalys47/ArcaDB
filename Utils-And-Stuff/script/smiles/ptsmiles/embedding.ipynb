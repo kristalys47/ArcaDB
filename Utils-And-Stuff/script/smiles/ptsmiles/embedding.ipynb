{
 "cells": [
  {
   "cell_type": "code",
   "execution_count": 1,
   "metadata": {},
   "outputs": [],
   "source": [
    "import torch\n",
    "import torch.nn\n",
    "import pandas as pd"
   ]
  },
  {
   "cell_type": "markdown",
   "metadata": {},
   "source": [
    "First setup the dictionaries to mapp from chars to positions."
   ]
  },
  {
   "cell_type": "code",
   "execution_count": 2,
   "metadata": {},
   "outputs": [
    {
     "name": "stdout",
     "output_type": "stream",
     "text": [
      "['A', 'B', 'C', 'D', 'E', 'F', 'G', 'H', 'I', 'J', 'K', 'L', 'M', 'N', 'O', 'P', 'Q', 'R', 'S', 'T', 'U', 'V', 'W', 'X', 'Y', 'Z', 'a', 'b', 'c', 'd', 'e', 'f', 'g', 'h', 'i', 'j', 'k', 'l', 'm', 'n', 'o', 'p', 'q', 'r', 's', 't', 'u', 'v', 'w', 'x', 'y', 'z', '0', '1', '2', '3', '4', '5', '6', '7', '8', '9', ',', ';', '.', '!', '?', ':', \"'\", '\"', '/', '\\\\', '|', '_', '@', '#', '$', '%', '^', '&', '*', '~', '`', '+', '-', '=', '<', '>', '(', ')', '[', ']', '{', '}']\n",
      "94\n",
      "{'A': 0, 'B': 1, 'C': 2, 'D': 3, 'E': 4, 'F': 5, 'G': 6, 'H': 7, 'I': 8, 'J': 9, 'K': 10, 'L': 11, 'M': 12, 'N': 13, 'O': 14, 'P': 15, 'Q': 16, 'R': 17, 'S': 18, 'T': 19, 'U': 20, 'V': 21, 'W': 22, 'X': 23, 'Y': 24, 'Z': 25, 'a': 26, 'b': 27, 'c': 28, 'd': 29, 'e': 30, 'f': 31, 'g': 32, 'h': 33, 'i': 34, 'j': 35, 'k': 36, 'l': 37, 'm': 38, 'n': 39, 'o': 40, 'p': 41, 'q': 42, 'r': 43, 's': 44, 't': 45, 'u': 46, 'v': 47, 'w': 48, 'x': 49, 'y': 50, 'z': 51, '0': 52, '1': 53, '2': 54, '3': 55, '4': 56, '5': 57, '6': 58, '7': 59, '8': 60, '9': 61, ',': 62, ';': 63, '.': 64, '!': 65, '?': 66, ':': 67, \"'\": 68, '\"': 69, '/': 70, '\\\\': 71, '|': 72, '_': 73, '@': 74, '#': 75, '$': 76, '%': 77, '^': 78, '&': 79, '*': 80, '~': 81, '`': 82, '+': 83, '-': 84, '=': 85, '<': 86, '>': 87, '(': 88, ')': 89, '[': 90, ']': 91, '{': 92, '}': 93}\n",
      "{0: 'A', 1: 'B', 2: 'C', 3: 'D', 4: 'E', 5: 'F', 6: 'G', 7: 'H', 8: 'I', 9: 'J', 10: 'K', 11: 'L', 12: 'M', 13: 'N', 14: 'O', 15: 'P', 16: 'Q', 17: 'R', 18: 'S', 19: 'T', 20: 'U', 21: 'V', 22: 'W', 23: 'X', 24: 'Y', 25: 'Z', 26: 'a', 27: 'b', 28: 'c', 29: 'd', 30: 'e', 31: 'f', 32: 'g', 33: 'h', 34: 'i', 35: 'j', 36: 'k', 37: 'l', 38: 'm', 39: 'n', 40: 'o', 41: 'p', 42: 'q', 43: 'r', 44: 's', 45: 't', 46: 'u', 47: 'v', 48: 'w', 49: 'x', 50: 'y', 51: 'z', 52: '0', 53: '1', 54: '2', 55: '3', 56: '4', 57: '5', 58: '6', 59: '7', 60: '8', 61: '9', 62: ',', 63: ';', 64: '.', 65: '!', 66: '?', 67: ':', 68: \"'\", 69: '\"', 70: '/', 71: '\\\\', 72: '|', 73: '_', 74: '@', 75: '#', 76: '$', 77: '%', 78: '^', 79: '&', 80: '*', 81: '~', 82: '`', 83: '+', 84: '-', 85: '=', 86: '<', 87: '>', 88: '(', 89: ')', 90: '[', 91: ']', 92: '{', 93: '}'}\n"
     ]
    }
   ],
   "source": [
    "characters = list(\"\"\"ABCDEFGHIJKLMNOPQRSTUVWXYZabcdefghijklmnopqrstuvwxyz0123456789,;.!?:'\\\"/\\\\|_@#$%^&*~`+-=<>()[]{}\"\"\")\n",
    "print(characters)\n",
    "print(len(characters))\n",
    "character_to_integer = dict((c, i) for i, c in enumerate(characters))\n",
    "integer_to_character = dict((i, c) for i, c in enumerate(characters))\n",
    "print(character_to_integer)\n",
    "print(integer_to_character)"
   ]
  },
  {
   "cell_type": "markdown",
   "metadata": {},
   "source": [
    "Let us no look at how a SMILE string gets mapped to indices"
   ]
  },
  {
   "cell_type": "code",
   "execution_count": 3,
   "metadata": {},
   "outputs": [
    {
     "name": "stdout",
     "output_type": "stream",
     "text": [
      "[90, 54, 7, 91, 2, 53, 85, 2, 88, 2, 88, 85, 2, 88, 2, 88, 85, 2, 53, 13, 2, 88, 85, 14, 89, 2, 89, 90, 54, 7, 91, 89, 90, 54, 7, 91, 89, 14, 89, 90, 54, 7, 91]\n",
      "43\n"
     ]
    }
   ],
   "source": [
    "test_str = \"[2H]C1=C(C(=C(C(=C1NC(=O)C)[2H])[2H])O)[2H]\"\n",
    "integer_encoded = [character_to_integer[char] for char in test_str]\n",
    "print(integer_encoded)\n",
    "print(len(integer_encoded))\n"
   ]
  },
  {
   "cell_type": "markdown",
   "metadata": {},
   "source": [
    "Let's create a one-hot encoding function"
   ]
  },
  {
   "cell_type": "code",
   "execution_count": 4,
   "metadata": {},
   "outputs": [],
   "source": [
    "def one_hot_encode(target, character_set_len:int):\n",
    "    one_hot = list()\n",
    "    for value in target:\n",
    "        #first make everything a 0\n",
    "        L = [0 for _ in range(character_set_len)]\n",
    "        # now add one at the position of this character\n",
    "        L[value] = 1\n",
    "        one_hot.append(L)\n",
    "    return one_hot\n"
   ]
  },
  {
   "cell_type": "markdown",
   "metadata": {},
   "source": [
    "Test one-hot encoding"
   ]
  },
  {
   "cell_type": "code",
   "execution_count": 5,
   "metadata": {},
   "outputs": [
    {
     "name": "stdout",
     "output_type": "stream",
     "text": [
      "[[0, 0, 0, 0, 0, 0, 0, 0, 0, 0, 0, 0, 0, 0, 0, 0, 0, 0, 0, 0, 0, 0, 0, 0, 0, 0, 0, 0, 0, 0, 0, 0, 0, 0, 0, 0, 0, 0, 0, 0, 0, 0, 0, 0, 0, 0, 0, 0, 0, 0, 0, 0, 0, 0, 0, 0, 0, 0, 0, 0, 0, 0, 0, 0, 0, 0, 0, 0, 0, 0, 0, 0, 0, 0, 0, 0, 0, 0, 0, 0, 0, 0, 0, 0, 0, 0, 0, 0, 0, 0, 1, 0, 0, 0], [0, 0, 0, 0, 0, 0, 0, 0, 0, 0, 0, 0, 0, 0, 0, 0, 0, 0, 0, 0, 0, 0, 0, 0, 0, 0, 0, 0, 0, 0, 0, 0, 0, 0, 0, 0, 0, 0, 0, 0, 0, 0, 0, 0, 0, 0, 0, 0, 0, 0, 0, 0, 0, 0, 1, 0, 0, 0, 0, 0, 0, 0, 0, 0, 0, 0, 0, 0, 0, 0, 0, 0, 0, 0, 0, 0, 0, 0, 0, 0, 0, 0, 0, 0, 0, 0, 0, 0, 0, 0, 0, 0, 0, 0], [0, 0, 0, 0, 0, 0, 0, 1, 0, 0, 0, 0, 0, 0, 0, 0, 0, 0, 0, 0, 0, 0, 0, 0, 0, 0, 0, 0, 0, 0, 0, 0, 0, 0, 0, 0, 0, 0, 0, 0, 0, 0, 0, 0, 0, 0, 0, 0, 0, 0, 0, 0, 0, 0, 0, 0, 0, 0, 0, 0, 0, 0, 0, 0, 0, 0, 0, 0, 0, 0, 0, 0, 0, 0, 0, 0, 0, 0, 0, 0, 0, 0, 0, 0, 0, 0, 0, 0, 0, 0, 0, 0, 0, 0], [0, 0, 0, 0, 0, 0, 0, 0, 0, 0, 0, 0, 0, 0, 0, 0, 0, 0, 0, 0, 0, 0, 0, 0, 0, 0, 0, 0, 0, 0, 0, 0, 0, 0, 0, 0, 0, 0, 0, 0, 0, 0, 0, 0, 0, 0, 0, 0, 0, 0, 0, 0, 0, 0, 0, 0, 0, 0, 0, 0, 0, 0, 0, 0, 0, 0, 0, 0, 0, 0, 0, 0, 0, 0, 0, 0, 0, 0, 0, 0, 0, 0, 0, 0, 0, 0, 0, 0, 0, 0, 0, 1, 0, 0], [0, 0, 1, 0, 0, 0, 0, 0, 0, 0, 0, 0, 0, 0, 0, 0, 0, 0, 0, 0, 0, 0, 0, 0, 0, 0, 0, 0, 0, 0, 0, 0, 0, 0, 0, 0, 0, 0, 0, 0, 0, 0, 0, 0, 0, 0, 0, 0, 0, 0, 0, 0, 0, 0, 0, 0, 0, 0, 0, 0, 0, 0, 0, 0, 0, 0, 0, 0, 0, 0, 0, 0, 0, 0, 0, 0, 0, 0, 0, 0, 0, 0, 0, 0, 0, 0, 0, 0, 0, 0, 0, 0, 0, 0], [0, 0, 0, 0, 0, 0, 0, 0, 0, 0, 0, 0, 0, 0, 0, 0, 0, 0, 0, 0, 0, 0, 0, 0, 0, 0, 0, 0, 0, 0, 0, 0, 0, 0, 0, 0, 0, 0, 0, 0, 0, 0, 0, 0, 0, 0, 0, 0, 0, 0, 0, 0, 0, 1, 0, 0, 0, 0, 0, 0, 0, 0, 0, 0, 0, 0, 0, 0, 0, 0, 0, 0, 0, 0, 0, 0, 0, 0, 0, 0, 0, 0, 0, 0, 0, 0, 0, 0, 0, 0, 0, 0, 0, 0], [0, 0, 0, 0, 0, 0, 0, 0, 0, 0, 0, 0, 0, 0, 0, 0, 0, 0, 0, 0, 0, 0, 0, 0, 0, 0, 0, 0, 0, 0, 0, 0, 0, 0, 0, 0, 0, 0, 0, 0, 0, 0, 0, 0, 0, 0, 0, 0, 0, 0, 0, 0, 0, 0, 0, 0, 0, 0, 0, 0, 0, 0, 0, 0, 0, 0, 0, 0, 0, 0, 0, 0, 0, 0, 0, 0, 0, 0, 0, 0, 0, 0, 0, 0, 0, 1, 0, 0, 0, 0, 0, 0, 0, 0], [0, 0, 1, 0, 0, 0, 0, 0, 0, 0, 0, 0, 0, 0, 0, 0, 0, 0, 0, 0, 0, 0, 0, 0, 0, 0, 0, 0, 0, 0, 0, 0, 0, 0, 0, 0, 0, 0, 0, 0, 0, 0, 0, 0, 0, 0, 0, 0, 0, 0, 0, 0, 0, 0, 0, 0, 0, 0, 0, 0, 0, 0, 0, 0, 0, 0, 0, 0, 0, 0, 0, 0, 0, 0, 0, 0, 0, 0, 0, 0, 0, 0, 0, 0, 0, 0, 0, 0, 0, 0, 0, 0, 0, 0], [0, 0, 0, 0, 0, 0, 0, 0, 0, 0, 0, 0, 0, 0, 0, 0, 0, 0, 0, 0, 0, 0, 0, 0, 0, 0, 0, 0, 0, 0, 0, 0, 0, 0, 0, 0, 0, 0, 0, 0, 0, 0, 0, 0, 0, 0, 0, 0, 0, 0, 0, 0, 0, 0, 0, 0, 0, 0, 0, 0, 0, 0, 0, 0, 0, 0, 0, 0, 0, 0, 0, 0, 0, 0, 0, 0, 0, 0, 0, 0, 0, 0, 0, 0, 0, 0, 0, 0, 1, 0, 0, 0, 0, 0], [0, 0, 1, 0, 0, 0, 0, 0, 0, 0, 0, 0, 0, 0, 0, 0, 0, 0, 0, 0, 0, 0, 0, 0, 0, 0, 0, 0, 0, 0, 0, 0, 0, 0, 0, 0, 0, 0, 0, 0, 0, 0, 0, 0, 0, 0, 0, 0, 0, 0, 0, 0, 0, 0, 0, 0, 0, 0, 0, 0, 0, 0, 0, 0, 0, 0, 0, 0, 0, 0, 0, 0, 0, 0, 0, 0, 0, 0, 0, 0, 0, 0, 0, 0, 0, 0, 0, 0, 0, 0, 0, 0, 0, 0], [0, 0, 0, 0, 0, 0, 0, 0, 0, 0, 0, 0, 0, 0, 0, 0, 0, 0, 0, 0, 0, 0, 0, 0, 0, 0, 0, 0, 0, 0, 0, 0, 0, 0, 0, 0, 0, 0, 0, 0, 0, 0, 0, 0, 0, 0, 0, 0, 0, 0, 0, 0, 0, 0, 0, 0, 0, 0, 0, 0, 0, 0, 0, 0, 0, 0, 0, 0, 0, 0, 0, 0, 0, 0, 0, 0, 0, 0, 0, 0, 0, 0, 0, 0, 0, 0, 0, 0, 1, 0, 0, 0, 0, 0], [0, 0, 0, 0, 0, 0, 0, 0, 0, 0, 0, 0, 0, 0, 0, 0, 0, 0, 0, 0, 0, 0, 0, 0, 0, 0, 0, 0, 0, 0, 0, 0, 0, 0, 0, 0, 0, 0, 0, 0, 0, 0, 0, 0, 0, 0, 0, 0, 0, 0, 0, 0, 0, 0, 0, 0, 0, 0, 0, 0, 0, 0, 0, 0, 0, 0, 0, 0, 0, 0, 0, 0, 0, 0, 0, 0, 0, 0, 0, 0, 0, 0, 0, 0, 0, 1, 0, 0, 0, 0, 0, 0, 0, 0], [0, 0, 1, 0, 0, 0, 0, 0, 0, 0, 0, 0, 0, 0, 0, 0, 0, 0, 0, 0, 0, 0, 0, 0, 0, 0, 0, 0, 0, 0, 0, 0, 0, 0, 0, 0, 0, 0, 0, 0, 0, 0, 0, 0, 0, 0, 0, 0, 0, 0, 0, 0, 0, 0, 0, 0, 0, 0, 0, 0, 0, 0, 0, 0, 0, 0, 0, 0, 0, 0, 0, 0, 0, 0, 0, 0, 0, 0, 0, 0, 0, 0, 0, 0, 0, 0, 0, 0, 0, 0, 0, 0, 0, 0], [0, 0, 0, 0, 0, 0, 0, 0, 0, 0, 0, 0, 0, 0, 0, 0, 0, 0, 0, 0, 0, 0, 0, 0, 0, 0, 0, 0, 0, 0, 0, 0, 0, 0, 0, 0, 0, 0, 0, 0, 0, 0, 0, 0, 0, 0, 0, 0, 0, 0, 0, 0, 0, 0, 0, 0, 0, 0, 0, 0, 0, 0, 0, 0, 0, 0, 0, 0, 0, 0, 0, 0, 0, 0, 0, 0, 0, 0, 0, 0, 0, 0, 0, 0, 0, 0, 0, 0, 1, 0, 0, 0, 0, 0], [0, 0, 1, 0, 0, 0, 0, 0, 0, 0, 0, 0, 0, 0, 0, 0, 0, 0, 0, 0, 0, 0, 0, 0, 0, 0, 0, 0, 0, 0, 0, 0, 0, 0, 0, 0, 0, 0, 0, 0, 0, 0, 0, 0, 0, 0, 0, 0, 0, 0, 0, 0, 0, 0, 0, 0, 0, 0, 0, 0, 0, 0, 0, 0, 0, 0, 0, 0, 0, 0, 0, 0, 0, 0, 0, 0, 0, 0, 0, 0, 0, 0, 0, 0, 0, 0, 0, 0, 0, 0, 0, 0, 0, 0], [0, 0, 0, 0, 0, 0, 0, 0, 0, 0, 0, 0, 0, 0, 0, 0, 0, 0, 0, 0, 0, 0, 0, 0, 0, 0, 0, 0, 0, 0, 0, 0, 0, 0, 0, 0, 0, 0, 0, 0, 0, 0, 0, 0, 0, 0, 0, 0, 0, 0, 0, 0, 0, 0, 0, 0, 0, 0, 0, 0, 0, 0, 0, 0, 0, 0, 0, 0, 0, 0, 0, 0, 0, 0, 0, 0, 0, 0, 0, 0, 0, 0, 0, 0, 0, 0, 0, 0, 1, 0, 0, 0, 0, 0], [0, 0, 0, 0, 0, 0, 0, 0, 0, 0, 0, 0, 0, 0, 0, 0, 0, 0, 0, 0, 0, 0, 0, 0, 0, 0, 0, 0, 0, 0, 0, 0, 0, 0, 0, 0, 0, 0, 0, 0, 0, 0, 0, 0, 0, 0, 0, 0, 0, 0, 0, 0, 0, 0, 0, 0, 0, 0, 0, 0, 0, 0, 0, 0, 0, 0, 0, 0, 0, 0, 0, 0, 0, 0, 0, 0, 0, 0, 0, 0, 0, 0, 0, 0, 0, 1, 0, 0, 0, 0, 0, 0, 0, 0], [0, 0, 1, 0, 0, 0, 0, 0, 0, 0, 0, 0, 0, 0, 0, 0, 0, 0, 0, 0, 0, 0, 0, 0, 0, 0, 0, 0, 0, 0, 0, 0, 0, 0, 0, 0, 0, 0, 0, 0, 0, 0, 0, 0, 0, 0, 0, 0, 0, 0, 0, 0, 0, 0, 0, 0, 0, 0, 0, 0, 0, 0, 0, 0, 0, 0, 0, 0, 0, 0, 0, 0, 0, 0, 0, 0, 0, 0, 0, 0, 0, 0, 0, 0, 0, 0, 0, 0, 0, 0, 0, 0, 0, 0], [0, 0, 0, 0, 0, 0, 0, 0, 0, 0, 0, 0, 0, 0, 0, 0, 0, 0, 0, 0, 0, 0, 0, 0, 0, 0, 0, 0, 0, 0, 0, 0, 0, 0, 0, 0, 0, 0, 0, 0, 0, 0, 0, 0, 0, 0, 0, 0, 0, 0, 0, 0, 0, 1, 0, 0, 0, 0, 0, 0, 0, 0, 0, 0, 0, 0, 0, 0, 0, 0, 0, 0, 0, 0, 0, 0, 0, 0, 0, 0, 0, 0, 0, 0, 0, 0, 0, 0, 0, 0, 0, 0, 0, 0], [0, 0, 0, 0, 0, 0, 0, 0, 0, 0, 0, 0, 0, 1, 0, 0, 0, 0, 0, 0, 0, 0, 0, 0, 0, 0, 0, 0, 0, 0, 0, 0, 0, 0, 0, 0, 0, 0, 0, 0, 0, 0, 0, 0, 0, 0, 0, 0, 0, 0, 0, 0, 0, 0, 0, 0, 0, 0, 0, 0, 0, 0, 0, 0, 0, 0, 0, 0, 0, 0, 0, 0, 0, 0, 0, 0, 0, 0, 0, 0, 0, 0, 0, 0, 0, 0, 0, 0, 0, 0, 0, 0, 0, 0], [0, 0, 1, 0, 0, 0, 0, 0, 0, 0, 0, 0, 0, 0, 0, 0, 0, 0, 0, 0, 0, 0, 0, 0, 0, 0, 0, 0, 0, 0, 0, 0, 0, 0, 0, 0, 0, 0, 0, 0, 0, 0, 0, 0, 0, 0, 0, 0, 0, 0, 0, 0, 0, 0, 0, 0, 0, 0, 0, 0, 0, 0, 0, 0, 0, 0, 0, 0, 0, 0, 0, 0, 0, 0, 0, 0, 0, 0, 0, 0, 0, 0, 0, 0, 0, 0, 0, 0, 0, 0, 0, 0, 0, 0], [0, 0, 0, 0, 0, 0, 0, 0, 0, 0, 0, 0, 0, 0, 0, 0, 0, 0, 0, 0, 0, 0, 0, 0, 0, 0, 0, 0, 0, 0, 0, 0, 0, 0, 0, 0, 0, 0, 0, 0, 0, 0, 0, 0, 0, 0, 0, 0, 0, 0, 0, 0, 0, 0, 0, 0, 0, 0, 0, 0, 0, 0, 0, 0, 0, 0, 0, 0, 0, 0, 0, 0, 0, 0, 0, 0, 0, 0, 0, 0, 0, 0, 0, 0, 0, 0, 0, 0, 1, 0, 0, 0, 0, 0], [0, 0, 0, 0, 0, 0, 0, 0, 0, 0, 0, 0, 0, 0, 0, 0, 0, 0, 0, 0, 0, 0, 0, 0, 0, 0, 0, 0, 0, 0, 0, 0, 0, 0, 0, 0, 0, 0, 0, 0, 0, 0, 0, 0, 0, 0, 0, 0, 0, 0, 0, 0, 0, 0, 0, 0, 0, 0, 0, 0, 0, 0, 0, 0, 0, 0, 0, 0, 0, 0, 0, 0, 0, 0, 0, 0, 0, 0, 0, 0, 0, 0, 0, 0, 0, 1, 0, 0, 0, 0, 0, 0, 0, 0], [0, 0, 0, 0, 0, 0, 0, 0, 0, 0, 0, 0, 0, 0, 1, 0, 0, 0, 0, 0, 0, 0, 0, 0, 0, 0, 0, 0, 0, 0, 0, 0, 0, 0, 0, 0, 0, 0, 0, 0, 0, 0, 0, 0, 0, 0, 0, 0, 0, 0, 0, 0, 0, 0, 0, 0, 0, 0, 0, 0, 0, 0, 0, 0, 0, 0, 0, 0, 0, 0, 0, 0, 0, 0, 0, 0, 0, 0, 0, 0, 0, 0, 0, 0, 0, 0, 0, 0, 0, 0, 0, 0, 0, 0], [0, 0, 0, 0, 0, 0, 0, 0, 0, 0, 0, 0, 0, 0, 0, 0, 0, 0, 0, 0, 0, 0, 0, 0, 0, 0, 0, 0, 0, 0, 0, 0, 0, 0, 0, 0, 0, 0, 0, 0, 0, 0, 0, 0, 0, 0, 0, 0, 0, 0, 0, 0, 0, 0, 0, 0, 0, 0, 0, 0, 0, 0, 0, 0, 0, 0, 0, 0, 0, 0, 0, 0, 0, 0, 0, 0, 0, 0, 0, 0, 0, 0, 0, 0, 0, 0, 0, 0, 0, 1, 0, 0, 0, 0], [0, 0, 1, 0, 0, 0, 0, 0, 0, 0, 0, 0, 0, 0, 0, 0, 0, 0, 0, 0, 0, 0, 0, 0, 0, 0, 0, 0, 0, 0, 0, 0, 0, 0, 0, 0, 0, 0, 0, 0, 0, 0, 0, 0, 0, 0, 0, 0, 0, 0, 0, 0, 0, 0, 0, 0, 0, 0, 0, 0, 0, 0, 0, 0, 0, 0, 0, 0, 0, 0, 0, 0, 0, 0, 0, 0, 0, 0, 0, 0, 0, 0, 0, 0, 0, 0, 0, 0, 0, 0, 0, 0, 0, 0], [0, 0, 0, 0, 0, 0, 0, 0, 0, 0, 0, 0, 0, 0, 0, 0, 0, 0, 0, 0, 0, 0, 0, 0, 0, 0, 0, 0, 0, 0, 0, 0, 0, 0, 0, 0, 0, 0, 0, 0, 0, 0, 0, 0, 0, 0, 0, 0, 0, 0, 0, 0, 0, 0, 0, 0, 0, 0, 0, 0, 0, 0, 0, 0, 0, 0, 0, 0, 0, 0, 0, 0, 0, 0, 0, 0, 0, 0, 0, 0, 0, 0, 0, 0, 0, 0, 0, 0, 0, 1, 0, 0, 0, 0], [0, 0, 0, 0, 0, 0, 0, 0, 0, 0, 0, 0, 0, 0, 0, 0, 0, 0, 0, 0, 0, 0, 0, 0, 0, 0, 0, 0, 0, 0, 0, 0, 0, 0, 0, 0, 0, 0, 0, 0, 0, 0, 0, 0, 0, 0, 0, 0, 0, 0, 0, 0, 0, 0, 0, 0, 0, 0, 0, 0, 0, 0, 0, 0, 0, 0, 0, 0, 0, 0, 0, 0, 0, 0, 0, 0, 0, 0, 0, 0, 0, 0, 0, 0, 0, 0, 0, 0, 0, 0, 1, 0, 0, 0], [0, 0, 0, 0, 0, 0, 0, 0, 0, 0, 0, 0, 0, 0, 0, 0, 0, 0, 0, 0, 0, 0, 0, 0, 0, 0, 0, 0, 0, 0, 0, 0, 0, 0, 0, 0, 0, 0, 0, 0, 0, 0, 0, 0, 0, 0, 0, 0, 0, 0, 0, 0, 0, 0, 1, 0, 0, 0, 0, 0, 0, 0, 0, 0, 0, 0, 0, 0, 0, 0, 0, 0, 0, 0, 0, 0, 0, 0, 0, 0, 0, 0, 0, 0, 0, 0, 0, 0, 0, 0, 0, 0, 0, 0], [0, 0, 0, 0, 0, 0, 0, 1, 0, 0, 0, 0, 0, 0, 0, 0, 0, 0, 0, 0, 0, 0, 0, 0, 0, 0, 0, 0, 0, 0, 0, 0, 0, 0, 0, 0, 0, 0, 0, 0, 0, 0, 0, 0, 0, 0, 0, 0, 0, 0, 0, 0, 0, 0, 0, 0, 0, 0, 0, 0, 0, 0, 0, 0, 0, 0, 0, 0, 0, 0, 0, 0, 0, 0, 0, 0, 0, 0, 0, 0, 0, 0, 0, 0, 0, 0, 0, 0, 0, 0, 0, 0, 0, 0], [0, 0, 0, 0, 0, 0, 0, 0, 0, 0, 0, 0, 0, 0, 0, 0, 0, 0, 0, 0, 0, 0, 0, 0, 0, 0, 0, 0, 0, 0, 0, 0, 0, 0, 0, 0, 0, 0, 0, 0, 0, 0, 0, 0, 0, 0, 0, 0, 0, 0, 0, 0, 0, 0, 0, 0, 0, 0, 0, 0, 0, 0, 0, 0, 0, 0, 0, 0, 0, 0, 0, 0, 0, 0, 0, 0, 0, 0, 0, 0, 0, 0, 0, 0, 0, 0, 0, 0, 0, 0, 0, 1, 0, 0], [0, 0, 0, 0, 0, 0, 0, 0, 0, 0, 0, 0, 0, 0, 0, 0, 0, 0, 0, 0, 0, 0, 0, 0, 0, 0, 0, 0, 0, 0, 0, 0, 0, 0, 0, 0, 0, 0, 0, 0, 0, 0, 0, 0, 0, 0, 0, 0, 0, 0, 0, 0, 0, 0, 0, 0, 0, 0, 0, 0, 0, 0, 0, 0, 0, 0, 0, 0, 0, 0, 0, 0, 0, 0, 0, 0, 0, 0, 0, 0, 0, 0, 0, 0, 0, 0, 0, 0, 0, 1, 0, 0, 0, 0], [0, 0, 0, 0, 0, 0, 0, 0, 0, 0, 0, 0, 0, 0, 0, 0, 0, 0, 0, 0, 0, 0, 0, 0, 0, 0, 0, 0, 0, 0, 0, 0, 0, 0, 0, 0, 0, 0, 0, 0, 0, 0, 0, 0, 0, 0, 0, 0, 0, 0, 0, 0, 0, 0, 0, 0, 0, 0, 0, 0, 0, 0, 0, 0, 0, 0, 0, 0, 0, 0, 0, 0, 0, 0, 0, 0, 0, 0, 0, 0, 0, 0, 0, 0, 0, 0, 0, 0, 0, 0, 1, 0, 0, 0], [0, 0, 0, 0, 0, 0, 0, 0, 0, 0, 0, 0, 0, 0, 0, 0, 0, 0, 0, 0, 0, 0, 0, 0, 0, 0, 0, 0, 0, 0, 0, 0, 0, 0, 0, 0, 0, 0, 0, 0, 0, 0, 0, 0, 0, 0, 0, 0, 0, 0, 0, 0, 0, 0, 1, 0, 0, 0, 0, 0, 0, 0, 0, 0, 0, 0, 0, 0, 0, 0, 0, 0, 0, 0, 0, 0, 0, 0, 0, 0, 0, 0, 0, 0, 0, 0, 0, 0, 0, 0, 0, 0, 0, 0], [0, 0, 0, 0, 0, 0, 0, 1, 0, 0, 0, 0, 0, 0, 0, 0, 0, 0, 0, 0, 0, 0, 0, 0, 0, 0, 0, 0, 0, 0, 0, 0, 0, 0, 0, 0, 0, 0, 0, 0, 0, 0, 0, 0, 0, 0, 0, 0, 0, 0, 0, 0, 0, 0, 0, 0, 0, 0, 0, 0, 0, 0, 0, 0, 0, 0, 0, 0, 0, 0, 0, 0, 0, 0, 0, 0, 0, 0, 0, 0, 0, 0, 0, 0, 0, 0, 0, 0, 0, 0, 0, 0, 0, 0], [0, 0, 0, 0, 0, 0, 0, 0, 0, 0, 0, 0, 0, 0, 0, 0, 0, 0, 0, 0, 0, 0, 0, 0, 0, 0, 0, 0, 0, 0, 0, 0, 0, 0, 0, 0, 0, 0, 0, 0, 0, 0, 0, 0, 0, 0, 0, 0, 0, 0, 0, 0, 0, 0, 0, 0, 0, 0, 0, 0, 0, 0, 0, 0, 0, 0, 0, 0, 0, 0, 0, 0, 0, 0, 0, 0, 0, 0, 0, 0, 0, 0, 0, 0, 0, 0, 0, 0, 0, 0, 0, 1, 0, 0], [0, 0, 0, 0, 0, 0, 0, 0, 0, 0, 0, 0, 0, 0, 0, 0, 0, 0, 0, 0, 0, 0, 0, 0, 0, 0, 0, 0, 0, 0, 0, 0, 0, 0, 0, 0, 0, 0, 0, 0, 0, 0, 0, 0, 0, 0, 0, 0, 0, 0, 0, 0, 0, 0, 0, 0, 0, 0, 0, 0, 0, 0, 0, 0, 0, 0, 0, 0, 0, 0, 0, 0, 0, 0, 0, 0, 0, 0, 0, 0, 0, 0, 0, 0, 0, 0, 0, 0, 0, 1, 0, 0, 0, 0], [0, 0, 0, 0, 0, 0, 0, 0, 0, 0, 0, 0, 0, 0, 1, 0, 0, 0, 0, 0, 0, 0, 0, 0, 0, 0, 0, 0, 0, 0, 0, 0, 0, 0, 0, 0, 0, 0, 0, 0, 0, 0, 0, 0, 0, 0, 0, 0, 0, 0, 0, 0, 0, 0, 0, 0, 0, 0, 0, 0, 0, 0, 0, 0, 0, 0, 0, 0, 0, 0, 0, 0, 0, 0, 0, 0, 0, 0, 0, 0, 0, 0, 0, 0, 0, 0, 0, 0, 0, 0, 0, 0, 0, 0], [0, 0, 0, 0, 0, 0, 0, 0, 0, 0, 0, 0, 0, 0, 0, 0, 0, 0, 0, 0, 0, 0, 0, 0, 0, 0, 0, 0, 0, 0, 0, 0, 0, 0, 0, 0, 0, 0, 0, 0, 0, 0, 0, 0, 0, 0, 0, 0, 0, 0, 0, 0, 0, 0, 0, 0, 0, 0, 0, 0, 0, 0, 0, 0, 0, 0, 0, 0, 0, 0, 0, 0, 0, 0, 0, 0, 0, 0, 0, 0, 0, 0, 0, 0, 0, 0, 0, 0, 0, 1, 0, 0, 0, 0], [0, 0, 0, 0, 0, 0, 0, 0, 0, 0, 0, 0, 0, 0, 0, 0, 0, 0, 0, 0, 0, 0, 0, 0, 0, 0, 0, 0, 0, 0, 0, 0, 0, 0, 0, 0, 0, 0, 0, 0, 0, 0, 0, 0, 0, 0, 0, 0, 0, 0, 0, 0, 0, 0, 0, 0, 0, 0, 0, 0, 0, 0, 0, 0, 0, 0, 0, 0, 0, 0, 0, 0, 0, 0, 0, 0, 0, 0, 0, 0, 0, 0, 0, 0, 0, 0, 0, 0, 0, 0, 1, 0, 0, 0], [0, 0, 0, 0, 0, 0, 0, 0, 0, 0, 0, 0, 0, 0, 0, 0, 0, 0, 0, 0, 0, 0, 0, 0, 0, 0, 0, 0, 0, 0, 0, 0, 0, 0, 0, 0, 0, 0, 0, 0, 0, 0, 0, 0, 0, 0, 0, 0, 0, 0, 0, 0, 0, 0, 1, 0, 0, 0, 0, 0, 0, 0, 0, 0, 0, 0, 0, 0, 0, 0, 0, 0, 0, 0, 0, 0, 0, 0, 0, 0, 0, 0, 0, 0, 0, 0, 0, 0, 0, 0, 0, 0, 0, 0], [0, 0, 0, 0, 0, 0, 0, 1, 0, 0, 0, 0, 0, 0, 0, 0, 0, 0, 0, 0, 0, 0, 0, 0, 0, 0, 0, 0, 0, 0, 0, 0, 0, 0, 0, 0, 0, 0, 0, 0, 0, 0, 0, 0, 0, 0, 0, 0, 0, 0, 0, 0, 0, 0, 0, 0, 0, 0, 0, 0, 0, 0, 0, 0, 0, 0, 0, 0, 0, 0, 0, 0, 0, 0, 0, 0, 0, 0, 0, 0, 0, 0, 0, 0, 0, 0, 0, 0, 0, 0, 0, 0, 0, 0], [0, 0, 0, 0, 0, 0, 0, 0, 0, 0, 0, 0, 0, 0, 0, 0, 0, 0, 0, 0, 0, 0, 0, 0, 0, 0, 0, 0, 0, 0, 0, 0, 0, 0, 0, 0, 0, 0, 0, 0, 0, 0, 0, 0, 0, 0, 0, 0, 0, 0, 0, 0, 0, 0, 0, 0, 0, 0, 0, 0, 0, 0, 0, 0, 0, 0, 0, 0, 0, 0, 0, 0, 0, 0, 0, 0, 0, 0, 0, 0, 0, 0, 0, 0, 0, 0, 0, 0, 0, 0, 0, 1, 0, 0]]\n",
      "43\n",
      "94\n"
     ]
    }
   ],
   "source": [
    "one_hot=one_hot_encode(integer_encoded,len(characters))\n",
    "print(one_hot)\n",
    "print(len(one_hot)) #43 one-hot vectors of size 94\n",
    "print(len(one_hot[0]))"
   ]
  },
  {
   "cell_type": "markdown",
   "metadata": {},
   "source": [
    "Create a data set from the smiles data. The data has 1,129,199 rows. The smiles data has string with average size of 56, max size of 1329. But there are 1,061,957 row with size less than 100. So, we will use that becuase it is 94% of the data."
   ]
  },
  {
   "cell_type": "code",
   "execution_count": 7,
   "metadata": {},
   "outputs": [],
   "source": [
    "from torch.utils.data import Dataset\n",
    "class SMILESDataSet(Dataset):\n",
    "    def __init__(self, smiles_file, train=True, max_str_len = 100, transform=None, target_transform=None):\n",
    "        super(SMILESDataSet, self).__init__()\n",
    "        self.smiles_file = smiles_file\n",
    "        self.max_str_len = max_str_len\n",
    "        if(train == True):\n",
    "            self.size = 200000\n",
    "        else:\n",
    "            self.size = 50000\n",
    "        self.transform = transform\n",
    "        self.target_transform = target_transform\n",
    "        #character set\n",
    "        self.characters = list(\"\"\"ABCDEFGHIJKLMNOPQRSTUVWXYZabcdefghijklmnopqrstuvwxyz0123456789,;.!?:'\\\"/\\\\|_@#$%^&*~`+-=<>()[]{}\"\"\")\n",
    "        self.character_to_integer = dict((c, i) for i, c in enumerate(characters))\n",
    "        self.integer_to_character = dict((i, c) for i, c in enumerate(characters))\n",
    "        \n",
    "        #open csv\n",
    "        self.smiles_csv = pd.read_csv(smiles_file)\n",
    "        #filter out those lines with canonical smiles string longer than 100\n",
    "        self.smiles_csv = self.smiles_csv[self.smiles_csv.apply(lambda x: len(x['CanonicalSMILES']) <= 100, axis=1)]\n",
    "        #sample data based on size\n",
    "        self.smiles_data =  self.smiles_csv.sample(n=self.size).reset_index()\n",
    "    \n",
    "    def __len__(self):\n",
    "        return self.size\n",
    "    \n",
    "    def __getitem__(self, idx):\n",
    "        #print(\"Index: \", idx)\n",
    "        #print(\"Row: \\n\", self.smiles_data.iloc[idx])\n",
    "        X = self.smiles_data.iloc[idx, 3] # Canonical smiles\n",
    "        #print(\"X: \", X)\n",
    "        y = self.smiles_data.iloc[idx, 5] # molecular weight\n",
    "        #print(\"y: \", y)\n",
    "        label = torch.tensor(y, dtype=torch.float32)\n",
    "        #label = torch.FloatTensor(y)\n",
    "        data = self.one_hot_encode(X, len(self.characters))\n",
    "        data = torch.tensor(data, dtype=torch.float32)\n",
    "        #data = torch.FloatTensor(data)\n",
    "        #print(\"data.shape: \", data.shape)\n",
    "        data = data.transpose(0, 1)\n",
    "        return data, label\n",
    "    \n",
    "    def one_hot_encode(self, target, character_set_len:int):\n",
    "        integer_encoded = [self.character_to_integer[char] for char in target]\n",
    "        one_hot = list()\n",
    "        for value in integer_encoded:\n",
    "            #first make everything a 0\n",
    "            L = [0 for _ in range(character_set_len)]\n",
    "            # now add one at the position of this character\n",
    "            L[value] = 1\n",
    "            one_hot.append(L)\n",
    "        one_hot = self.zero_pad(one_hot, self.max_str_len, character_set_len)\n",
    "        return one_hot\n",
    "    \n",
    "    def zero_pad(self, one_hot, max_str_len, character_set_len):\n",
    "        L = [0 for _ in range(character_set_len)]\n",
    "        while (len(one_hot) < max_str_len):\n",
    "            one_hot.append(L)\n",
    "        return one_hot\n",
    "    \n",
    "\n",
    "        \n"
   ]
  },
  {
   "cell_type": "markdown",
   "metadata": {},
   "source": [
    "Create a data set and training set and setup their data loaders\n",
    "batch_size = 10\n"
   ]
  },
  {
   "cell_type": "code",
   "execution_count": 8,
   "metadata": {},
   "outputs": [
    {
     "name": "stdout",
     "output_type": "stream",
     "text": [
      "training data len:  200000\n",
      "test data len:  50000\n"
     ]
    }
   ],
   "source": [
    "from torch.utils.data import DataLoader\n",
    "smiles_file = \"./master_corpus2.csv\"\n",
    "training_data = SMILESDataSet(smiles_file, train=True)\n",
    "print(\"training data len: \", training_data.__len__())\n",
    "test_data = SMILESDataSet(smiles_file, train=False)\n",
    "print(\"test data len: \", test_data.__len__())\n",
    "\n",
    "batch_size = 64\n",
    "train_dataloader = DataLoader(training_data, batch_size=batch_size, shuffle=False)\n",
    "test_dataloader = DataLoader(test_data, batch_size=batch_size, shuffle=False)"
   ]
  },
  {
   "cell_type": "markdown",
   "metadata": {},
   "source": [
    "Lets see a few items from the training set"
   ]
  },
  {
   "cell_type": "code",
   "execution_count": 10,
   "metadata": {},
   "outputs": [
    {
     "name": "stdout",
     "output_type": "stream",
     "text": [
      "train_features.shape torch.Size([64, 94, 100])\n",
      "train_labels.shape torch.Size([64])\n",
      "len(C):  94\n",
      "train features[0] tensor([[0., 0., 0.,  ..., 0., 0., 0.],\n",
      "        [0., 0., 0.,  ..., 0., 0., 0.],\n",
      "        [1., 0., 1.,  ..., 0., 0., 0.],\n",
      "        ...,\n",
      "        [0., 0., 0.,  ..., 0., 0., 0.],\n",
      "        [0., 0., 0.,  ..., 0., 0., 0.],\n",
      "        [0., 0., 0.,  ..., 0., 0., 0.]])\n",
      "train labels[0[]] tensor(465.5000)\n"
     ]
    }
   ],
   "source": [
    "train_features, train_labels = next(iter(train_dataloader))\n",
    "print(\"train_features.shape\", train_features.shape)\n",
    "print(\"train_labels.shape\", train_labels.shape)\n",
    "C = list(\"\"\"ABCDEFGHIJKLMNOPQRSTUVWXYZabcdefghijklmnopqrstuvwxyz0123456789,;.!?:'\\\"/\\\\|_@#$%^&*~`+-=<>()[]{}\"\"\")\n",
    "print(\"len(C): \" , len(C))\n",
    "print(\"train features[0]\", train_features[0] )\n",
    "print(\"train labels[0[]]\", train_labels[0] )\n"
   ]
  },
  {
   "cell_type": "markdown",
   "metadata": {},
   "source": [
    "Now the create then NN model"
   ]
  },
  {
   "cell_type": "code",
   "execution_count": 11,
   "metadata": {},
   "outputs": [
    {
     "name": "stdout",
     "output_type": "stream",
     "text": [
      "train_features,shape:  torch.Size([64, 94, 100])\n",
      "out.shape:  torch.Size([64, 1])\n"
     ]
    }
   ],
   "source": [
    "import torch.nn as nn\n",
    "\n",
    "class CharacterLevelCNN(nn.Module):\n",
    "    def __init__(self, input_length, input_dim, n_conv_filters, n_fc_neurons=128, kernel_size=7, padding=0):\n",
    "        super(CharacterLevelCNN, self).__init__()\n",
    "\n",
    "        self.conv1 = nn.Sequential(nn.Conv1d(input_dim, n_conv_filters, kernel_size, stride=1, padding=padding), nn.ReLU(),\n",
    "                                   nn.MaxPool1d(3)) \n",
    "        self.conv2 = nn.Sequential(nn.Conv1d(n_conv_filters, n_conv_filters, kernel_size, stride=1, padding=padding), nn.ReLU(),\n",
    "                                   nn.MaxPool1d(3))\n",
    "        self.conv3 = nn.Sequential(nn.Conv1d(n_conv_filters, n_conv_filters, kernel_size=3, stride=1, padding=padding), nn.ReLU())\n",
    "        self.conv4 = nn.Sequential(nn.Conv1d(n_conv_filters, n_conv_filters, kernel_size=3, stride=1, padding=padding), nn.ReLU())\n",
    "        self.conv5 = nn.Sequential(nn.Conv1d(n_conv_filters, n_conv_filters, kernel_size=3, stride=1, padding=padding), nn.ReLU())\n",
    "        self.fc1 = nn.Sequential(nn.Linear(input_length, n_fc_neurons), nn.ReLU(), nn.Dropout(0.2))  \n",
    "        self.fc2 = nn.Sequential(nn.Linear(n_fc_neurons, 64), nn.ReLU(),nn.Dropout(0.2))  \n",
    "        self.fc3 = nn.Sequential(nn.Linear(64, 32), nn.ReLU(),nn.Dropout(0.2))  \n",
    "        self.fc4 = nn.Sequential(nn.Linear(32, 1))   \n",
    "\n",
    "    def forward(self, X):\n",
    "        output = self.conv1(X)\n",
    "        output = self.conv2(output)\n",
    "        output = self.conv3(output)\n",
    "        output = self.conv4(output)\n",
    "        output = self.conv5(output)\n",
    "        output = output.view(output.shape[0], -1)\n",
    "        output = self.fc1(output)\n",
    "        output = self.fc2(output)\n",
    "        output = self.fc3(output)\n",
    "        output = self.fc4(output)\n",
    "\n",
    "        return output\n",
    "\n",
    "model =  CharacterLevelCNN(128, 94, 64)\n",
    "print(\"train_features,shape: \", train_features.shape)\n",
    "out = model(train_features)  \n",
    "#M = out.view(10, -1)\n",
    "print(\"out.shape: \", out.shape)     \n",
    "#print(\"M.shape: \", M.shape)     \n",
    "  "
   ]
  },
  {
   "cell_type": "markdown",
   "metadata": {},
   "source": [
    "Look at the network"
   ]
  },
  {
   "cell_type": "code",
   "execution_count": 12,
   "metadata": {},
   "outputs": [
    {
     "name": "stderr",
     "output_type": "stream",
     "text": [
      "/Users/manuelrodriguez/miniconda3/envs/pytorch2/lib/python3.8/site-packages/torchinfo/torchinfo.py:477: UserWarning: TypedStorage is deprecated. It will be removed in the future and UntypedStorage will be the only storage class. This should only matter to you if you are using storages directly.  To access UntypedStorage directly, use tensor.untyped_storage() instead of tensor.storage()\n",
      "  action_fn=lambda data: sys.getsizeof(data.storage()),\n",
      "/Users/manuelrodriguez/miniconda3/envs/pytorch2/lib/python3.8/site-packages/torch/storage.py:665: UserWarning: TypedStorage is deprecated. It will be removed in the future and UntypedStorage will be the only storage class. This should only matter to you if you are using storages directly.  To access UntypedStorage directly, use tensor.untyped_storage() instead of tensor.storage()\n",
      "  return super().__sizeof__() + self.nbytes()\n"
     ]
    },
    {
     "data": {
      "text/plain": [
       "===================================================================================================================\n",
       "Layer (type:depth-idx)                   Input Shape               Output Shape              Param #\n",
       "===================================================================================================================\n",
       "CharacterLevelCNN                        [64, 94, 100]             [64, 1]                   --\n",
       "├─Sequential: 1-1                        [64, 94, 100]             [64, 64, 31]              --\n",
       "│    └─Conv1d: 2-1                       [64, 94, 100]             [64, 64, 94]              42,176\n",
       "│    └─ReLU: 2-2                         [64, 64, 94]              [64, 64, 94]              --\n",
       "│    └─MaxPool1d: 2-3                    [64, 64, 94]              [64, 64, 31]              --\n",
       "├─Sequential: 1-2                        [64, 64, 31]              [64, 64, 8]               --\n",
       "│    └─Conv1d: 2-4                       [64, 64, 31]              [64, 64, 25]              28,736\n",
       "│    └─ReLU: 2-5                         [64, 64, 25]              [64, 64, 25]              --\n",
       "│    └─MaxPool1d: 2-6                    [64, 64, 25]              [64, 64, 8]               --\n",
       "├─Sequential: 1-3                        [64, 64, 8]               [64, 64, 6]               --\n",
       "│    └─Conv1d: 2-7                       [64, 64, 8]               [64, 64, 6]               12,352\n",
       "│    └─ReLU: 2-8                         [64, 64, 6]               [64, 64, 6]               --\n",
       "├─Sequential: 1-4                        [64, 64, 6]               [64, 64, 4]               --\n",
       "│    └─Conv1d: 2-9                       [64, 64, 6]               [64, 64, 4]               12,352\n",
       "│    └─ReLU: 2-10                        [64, 64, 4]               [64, 64, 4]               --\n",
       "├─Sequential: 1-5                        [64, 64, 4]               [64, 64, 2]               --\n",
       "│    └─Conv1d: 2-11                      [64, 64, 4]               [64, 64, 2]               12,352\n",
       "│    └─ReLU: 2-12                        [64, 64, 2]               [64, 64, 2]               --\n",
       "├─Sequential: 1-6                        [64, 128]                 [64, 128]                 --\n",
       "│    └─Linear: 2-13                      [64, 128]                 [64, 128]                 16,512\n",
       "│    └─ReLU: 2-14                        [64, 128]                 [64, 128]                 --\n",
       "│    └─Dropout: 2-15                     [64, 128]                 [64, 128]                 --\n",
       "├─Sequential: 1-7                        [64, 128]                 [64, 64]                  --\n",
       "│    └─Linear: 2-16                      [64, 128]                 [64, 64]                  8,256\n",
       "│    └─ReLU: 2-17                        [64, 64]                  [64, 64]                  --\n",
       "│    └─Dropout: 2-18                     [64, 64]                  [64, 64]                  --\n",
       "├─Sequential: 1-8                        [64, 64]                  [64, 32]                  --\n",
       "│    └─Linear: 2-19                      [64, 64]                  [64, 32]                  2,080\n",
       "│    └─ReLU: 2-20                        [64, 32]                  [64, 32]                  --\n",
       "│    └─Dropout: 2-21                     [64, 32]                  [64, 32]                  --\n",
       "├─Sequential: 1-9                        [64, 32]                  [64, 1]                   --\n",
       "│    └─Linear: 2-22                      [64, 32]                  [64, 1]                   33\n",
       "===================================================================================================================\n",
       "Total params: 134,849\n",
       "Trainable params: 134,849\n",
       "Non-trainable params: 0\n",
       "Total mult-adds (M): 310.92\n",
       "===================================================================================================================\n",
       "Input size (MB): 2.41\n",
       "Forward/backward pass size (MB): 4.41\n",
       "Params size (MB): 0.54\n",
       "Estimated Total Size (MB): 7.35\n",
       "==================================================================================================================="
      ]
     },
     "execution_count": 12,
     "metadata": {},
     "output_type": "execute_result"
    }
   ],
   "source": [
    "from torchinfo import summary\n",
    "summary(model, input_size=train_features.shape, device='cpu', col_names=['input_size', 'output_size',\n",
    "                                                                               'num_params'])\n"
   ]
  },
  {
   "cell_type": "markdown",
   "metadata": {},
   "source": [
    "Setup data set and data loader for returning the strings encoded as integers. Embedding layer will take care of conversions to dense vectors"
   ]
  },
  {
   "cell_type": "code",
   "execution_count": 17,
   "metadata": {},
   "outputs": [],
   "source": [
    "from torch.utils.data import Dataset\n",
    "\n",
    "class SMILESEmbedDataSet(Dataset):\n",
    "    def __init__(self, smiles_file, train=True, max_str_len = 100, transform=None, target_transform=None):\n",
    "        super(SMILESEmbedDataSet, self).__init__()\n",
    "        self.smiles_file = smiles_file\n",
    "        self.max_str_len = max_str_len\n",
    "        if(train == True):\n",
    "            self.size = 200000\n",
    "        else:\n",
    "            self.size = 50000\n",
    "        self.transform = transform\n",
    "        self.target_transform = target_transform\n",
    "        #character set\n",
    "        self.characters = list(\"\"\"ABCDEFGHIJKLMNOPQRSTUVWXYZabcdefghijklmnopqrstuvwxyz0123456789,;.!?:'\\\"/\\\\|_@#$%^&*~`+-=<>()[]{}\"\"\")\n",
    "        self.character_to_integer = dict((c, i) for i, c in enumerate(characters))\n",
    "        self.integer_to_character = dict((i, c) for i, c in enumerate(characters))\n",
    "         #open csv\n",
    "        self.smiles_csv = pd.read_csv(smiles_file)\n",
    "        #filter out those lines with canonical smiles string longer than 100\n",
    "        self.smiles_csv = self.smiles_csv[self.smiles_csv.apply(lambda x: len(x['CanonicalSMILES']) <= 100, axis=1)]\n",
    "        #sample data based on size\n",
    "        self.smiles_data =  self.smiles_csv.sample(n=self.size).reset_index()\n",
    "\n",
    "    def __len__(self):\n",
    "        return self.size\n",
    "    \n",
    "    def __getitem__(self, idx):\n",
    "        #print(\"Index: \", idx)\n",
    "        #print(\"Row: \\n\", self.smiles_data.iloc[idx])\n",
    "        X = self.smiles_data.iloc[idx, 3] # Canonical smiles\n",
    "        #print(\"X: \", X)\n",
    "        y = self.smiles_data.iloc[idx, 5] # molecular weight\n",
    "        #print(\"y: \", y)\n",
    "        label = torch.tensor(y, dtype=torch.float32)\n",
    "        #label = torch.FloatTensor(y)\n",
    "        data = self.integer_encode(X)\n",
    "        data = self.pad(data, self.max_str_len, len(self.characters))\n",
    "        data = torch.tensor(data, dtype=torch.int32)\n",
    "        #data = torch.FloatTensor(data)\n",
    "        #print(\"data.shape: \", data.shape)\n",
    "        #data = data.transpose(0, 1)\n",
    "        return data, label\n",
    "    \n",
    "    def integer_encode(self, target):\n",
    "        integer_encoded = [self.character_to_integer[char] for char in target]\n",
    "        return integer_encoded\n",
    "    \n",
    "    def pad(self, target, max_str_len, max_vocab_len):\n",
    "        # pad with integer position max_vocab_len until we reach max_str_len\n",
    "        while len(target) < max_str_len:\n",
    "            target.append(max_vocab_len)\n",
    "        return target\n",
    "        \n"
   ]
  },
  {
   "cell_type": "markdown",
   "metadata": {},
   "source": [
    "Setup cost criterion and optimizer"
   ]
  },
  {
   "cell_type": "markdown",
   "metadata": {},
   "source": [
    "Load the data"
   ]
  },
  {
   "cell_type": "code",
   "execution_count": 18,
   "metadata": {},
   "outputs": [
    {
     "name": "stdout",
     "output_type": "stream",
     "text": [
      "training data len:  200000\n",
      "test data len:  50000\n"
     ]
    }
   ],
   "source": [
    "from torch.utils.data import DataLoader\n",
    "smiles_file = \"./master_corpus2.csv\"\n",
    "training_data = SMILESEmbedDataSet(smiles_file, train=True)\n",
    "print(\"training data len: \", training_data.__len__())\n",
    "test_data = SMILESEmbedDataSet(smiles_file, train=False)\n",
    "print(\"test data len: \", test_data.__len__())\n",
    "\n",
    "batch_size = 64\n",
    "train_dataloader = DataLoader(training_data, batch_size=batch_size, shuffle=False)\n",
    "test_dataloader = DataLoader(test_data, batch_size=batch_size, shuffle=False)"
   ]
  },
  {
   "cell_type": "markdown",
   "metadata": {},
   "source": [
    "Let us look at the data"
   ]
  },
  {
   "cell_type": "code",
   "execution_count": 19,
   "metadata": {},
   "outputs": [
    {
     "name": "stdout",
     "output_type": "stream",
     "text": [
      "train_features.shape torch.Size([64, 100])\n",
      "train_labels.shape torch.Size([64])\n",
      "len(C):  94\n",
      "train features[0] tensor([ 2, 53, 85,  2,  2, 85,  2, 54,  2, 88, 85,  2, 53, 89,  2, 55, 85,  2,\n",
      "        88, 13, 54, 89,  2, 88, 85, 14, 89, 13, 88, 13, 85,  2, 55, 89,  2,  2,\n",
      "        88, 85, 14, 89, 13,  2, 56, 85,  2,  2, 85,  2,  2, 88, 85,  2, 56, 89,\n",
      "         2, 88,  5, 89, 88,  5, 89,  5, 94, 94, 94, 94, 94, 94, 94, 94, 94, 94,\n",
      "        94, 94, 94, 94, 94, 94, 94, 94, 94, 94, 94, 94, 94, 94, 94, 94, 94, 94,\n",
      "        94, 94, 94, 94, 94, 94, 94, 94, 94, 94], dtype=torch.int32)\n",
      "train labels[0[]] tensor(386.3000)\n"
     ]
    }
   ],
   "source": [
    "train_features, train_labels = next(iter(train_dataloader))\n",
    "print(\"train_features.shape\", train_features.shape)\n",
    "print(\"train_labels.shape\", train_labels.shape)\n",
    "C = list(\"\"\"ABCDEFGHIJKLMNOPQRSTUVWXYZabcdefghijklmnopqrstuvwxyz0123456789,;.!?:'\\\"/\\\\|_@#$%^&*~`+-=<>()[]{}\"\"\")\n",
    "print(\"len(C): \" , len(C))\n",
    "print(\"train features[0]\", train_features[0] )\n",
    "print(\"train labels[0]\", train_labels[0] )"
   ]
  },
  {
   "cell_type": "markdown",
   "metadata": {},
   "source": [
    "Create NN with embedding"
   ]
  },
  {
   "cell_type": "code",
   "execution_count": null,
   "metadata": {},
   "outputs": [],
   "source": [
    "import torch.nn as nn\n",
    "\n",
    "class CharacterLevelCNNEmbed(nn.Module):\n",
    "    def __init__(self, vocab_len, input_length, input_dim, n_conv_filters, n_fc_neurons=128, kernel_size=7, padding=0):\n",
    "        super(CharacterLevelCNNEmbed, self).__init__()\n",
    "        self.embedding_layer = nn.Embedding(num_embeddings=len(vocab_len), embedding_dim=input_dim)\n",
    "\n",
    "        self.conv1 = nn.Sequential(nn.Conv1d(input_dim, n_conv_filters, kernel_size, stride=1, padding=padding), nn.ReLU(),\n",
    "                                   nn.MaxPool1d(3)) \n",
    "        self.conv2 = nn.Sequential(nn.Conv1d(n_conv_filters, n_conv_filters, kernel_size, stride=1, padding=padding), nn.ReLU(),\n",
    "                                   nn.MaxPool1d(3))\n",
    "        self.conv3 = nn.Sequential(nn.Conv1d(n_conv_filters, n_conv_filters, kernel_size=3, stride=1, padding=padding), nn.ReLU())\n",
    "        self.conv4 = nn.Sequential(nn.Conv1d(n_conv_filters, n_conv_filters, kernel_size=3, stride=1, padding=padding), nn.ReLU())\n",
    "        self.conv5 = nn.Sequential(nn.Conv1d(n_conv_filters, n_conv_filters, kernel_size=3, stride=1, padding=padding), nn.ReLU())\n",
    "        self.fc1 = nn.Sequential(nn.Linear(input_length, n_fc_neurons), nn.ReLU(), nn.Dropout(0.2))  \n",
    "        self.fc2 = nn.Sequential(nn.Linear(n_fc_neurons, 64), nn.ReLU(),nn.Dropout(0.2))  \n",
    "        self.fc3 = nn.Sequential(nn.Linear(64, 32), nn.ReLU(),nn.Dropout(0.2))  \n",
    "        self.fc4 = nn.Sequential(nn.Linear(32, 1))   \n",
    "\n",
    "    def forward(self, X):\n",
    "        output = self.conv1(X)\n",
    "        output = self.conv2(output)\n",
    "        output = self.conv3(output)\n",
    "        output = self.conv4(output)\n",
    "        output = self.conv5(output)\n",
    "        output = output.view(output.shape[0], -1)\n",
    "        output = self.fc1(output)\n",
    "        output = self.fc2(output)\n",
    "        output = self.fc3(output)\n",
    "        output = self.fc4(output)\n",
    "\n",
    "        return output\n",
    "\n",
    "model =  CharacterLevelCNN(128, 94, 64)\n",
    "print(\"train_features,shape: \", train_features.shape)\n",
    "out = model(train_features)  \n",
    "#M = out.view(10, -1)\n",
    "print(\"out.shape: \", out.shape)     \n",
    "#print(\"M.shape: \", M.shape)  "
   ]
  },
  {
   "cell_type": "code",
   "execution_count": 56,
   "metadata": {},
   "outputs": [],
   "source": [
    "#Cost function\n",
    "criterion = torch.nn.MSELoss()\n",
    "\n",
    "optimizer = torch.optim.Adam(model.parameters())\n"
   ]
  },
  {
   "cell_type": "markdown",
   "metadata": {},
   "source": [
    "Training loop"
   ]
  },
  {
   "cell_type": "code",
   "execution_count": 57,
   "metadata": {},
   "outputs": [],
   "source": [
    "#arrat to keep loss after each iteration\n",
    "loss_list = []\n",
    "# number of iterations\n",
    "epochs = 20"
   ]
  },
  {
   "cell_type": "code",
   "execution_count": null,
   "metadata": {},
   "outputs": [],
   "source": []
  },
  {
   "cell_type": "code",
   "execution_count": 58,
   "metadata": {},
   "outputs": [
    {
     "name": "stdout",
     "output_type": "stream",
     "text": [
      "  batch 1000 loss: 11536.044882080078\n",
      "  batch 2000 loss: 4944.318415283203\n",
      "  batch 3000 loss: 4841.683582641602\n",
      "  batch 1000 loss: 4586.1502570800785\n",
      "  batch 2000 loss: 4695.881820922851\n",
      "  batch 3000 loss: 4436.855819702148\n",
      "  batch 1000 loss: 4481.561770629883\n",
      "  batch 2000 loss: 4396.334609619141\n",
      "  batch 3000 loss: 4489.080185546875\n",
      "  batch 1000 loss: 4427.607578735351\n",
      "  batch 2000 loss: 4466.677286865234\n",
      "  batch 3000 loss: 4377.355996948242\n",
      "  batch 1000 loss: 4298.894345458984\n",
      "  batch 2000 loss: 4242.737025878906\n",
      "  batch 3000 loss: 4245.360828857421\n",
      "  batch 1000 loss: 4242.1886917724605\n",
      "  batch 2000 loss: 4129.0558395996095\n",
      "  batch 3000 loss: 4209.996467773438\n",
      "  batch 1000 loss: 4148.444652954102\n",
      "  batch 2000 loss: 4022.795212524414\n",
      "  batch 3000 loss: 4121.693369018555\n",
      "  batch 1000 loss: 4070.5292716064455\n",
      "  batch 2000 loss: 3980.682705078125\n",
      "  batch 3000 loss: 3950.0132735595703\n",
      "  batch 1000 loss: 3872.313399291992\n",
      "  batch 2000 loss: 3870.9380885009764\n",
      "  batch 3000 loss: 3821.212956176758\n",
      "  batch 1000 loss: 3686.363540771484\n",
      "  batch 2000 loss: 3678.5859301757814\n",
      "  batch 3000 loss: 3603.3923017578127\n",
      "  batch 1000 loss: 3535.4566767578126\n",
      "  batch 2000 loss: 3406.323998535156\n",
      "  batch 3000 loss: 3493.6581492919922\n",
      "  batch 1000 loss: 3362.4168283691406\n",
      "  batch 2000 loss: 3312.7795087890627\n",
      "  batch 3000 loss: 3291.386706665039\n",
      "  batch 1000 loss: 3250.125757446289\n",
      "  batch 2000 loss: 3174.6141849365235\n",
      "  batch 3000 loss: 3264.5683896484375\n",
      "  batch 1000 loss: 3152.3163907470703\n",
      "  batch 2000 loss: 3094.7226595458983\n",
      "  batch 3000 loss: 3105.1161481933595\n",
      "  batch 1000 loss: 3139.1006364746095\n",
      "  batch 2000 loss: 3110.5914809570313\n",
      "  batch 3000 loss: 3067.8781655273438\n",
      "  batch 1000 loss: 3024.135668334961\n",
      "  batch 2000 loss: 3029.9476668701172\n",
      "  batch 3000 loss: 2974.321009033203\n",
      "  batch 1000 loss: 2958.9779462890624\n",
      "  batch 2000 loss: 2953.208377685547\n",
      "  batch 3000 loss: 2903.5831931152343\n",
      "  batch 1000 loss: 2901.4181256103516\n",
      "  batch 2000 loss: 2830.3708170166014\n",
      "  batch 3000 loss: 2866.8448564453124\n",
      "  batch 1000 loss: 2774.851469543457\n",
      "  batch 2000 loss: 2800.0228586425783\n",
      "  batch 3000 loss: 2757.373776611328\n",
      "  batch 1000 loss: 2773.280382324219\n",
      "  batch 2000 loss: 2751.200378051758\n",
      "  batch 3000 loss: 2704.8559739990233\n"
     ]
    }
   ],
   "source": [
    "for e  in range(epochs):\n",
    "    running_loss = 0.\n",
    "    last_lost = 0.\n",
    "    for i, data in enumerate(train_dataloader):\n",
    "        X, Y = data\n",
    "        #setup optimizer to zero grandients\n",
    "        optimizer.zero_grad()\n",
    "        # Make predictions for the all the examples in X (vectorization)\n",
    "        Y_pred = model.forward(X)\n",
    "        # now calculate the loss \n",
    "        Y = Y.unsqueeze(1)\n",
    "        loss = criterion(Y_pred, Y)\n",
    "        #append the lost to the list\n",
    "        #loss_list.append(loss.item())\n",
    "        #back propagation step\n",
    "        loss.backward()\n",
    "        #parameter update\n",
    "        optimizer.step()\n",
    "\n",
    "        running_loss += loss.item()\n",
    "        if i % 1000 == 999:\n",
    "            last_loss = running_loss / 1000 # loss per batch\n",
    "            loss_list.append(last_loss)\n",
    "            print('  batch {} loss: {}'.format(i + 1, last_loss))\n",
    "            #tb_x = epoch_index * len(training_loader) + i + 1\n",
    "            #tb_writer.add_scalar('Loss/train', last_loss, tb_x)\n",
    "            running_loss = 0.\n",
    "    # print diagnostic data\n",
    "    #print('{}, \\t{}, \\t{}'.format(i, loss.item(), [param.data for param in model.parameters()]))\n",
    "\n",
    "    #with torch.no_grad():\n",
    "\n",
    "\n"
   ]
  },
  {
   "cell_type": "code",
   "execution_count": 59,
   "metadata": {},
   "outputs": [
    {
     "data": {
      "image/png": "[encoded data removed]",
      "text/plain": [
       "<Figure size 640x480 with 1 Axes>"
      ]
     },
     "metadata": {},
     "output_type": "display_data"
    }
   ],
   "source": [
    "import matplotlib.pyplot as plt\n",
    "plt.plot(loss_list, 'r')\n",
    "plt.tight_layout()\n",
    "plt.grid('True', color='y')\n",
    "plt.xlabel(\"Epochs/Iterations\")\n",
    "plt.ylabel(\"Loss\")\n",
    "plt.show()"
   ]
  },
  {
   "cell_type": "markdown",
   "metadata": {},
   "source": [
    "Save the model"
   ]
  },
  {
   "cell_type": "code",
   "execution_count": 60,
   "metadata": {},
   "outputs": [],
   "source": [
    "PATH = './mymodelemb.pth'\n",
    "torch.save(model.state_dict(), PATH)"
   ]
  }
 ],
 "metadata": {
  "kernelspec": {
   "display_name": "Python 3 (ipykernel)",
   "language": "python",
   "name": "python3"
  },
  "language_info": {
   "codemirror_mode": {
    "name": "ipython",
    "version": 3
   },
   "file_extension": ".py",
   "mimetype": "text/x-python",
   "name": "python",
   "nbconvert_exporter": "python",
   "pygments_lexer": "ipython3",
   "version": "3.8.16"
  }
 },
 "nbformat": 4,
 "nbformat_minor": 2
}
